{
 "cells": [
  {
   "cell_type": "code",
   "execution_count": 2,
   "id": "85a74574",
   "metadata": {},
   "outputs": [],
   "source": [
    "import pandas as pd"
   ]
  },
  {
   "cell_type": "code",
   "execution_count": 3,
   "id": "177240d5",
   "metadata": {},
   "outputs": [
    {
     "name": "stdout",
     "output_type": "stream",
     "text": [
      "1    0.515\n",
      "2    0.485\n",
      "Name: Sex, dtype: float64\n",
      "2    0.590\n",
      "1    0.355\n",
      "3    0.055\n",
      "Name: Age_category, dtype: float64\n",
      "2    0.49\n",
      "3    0.22\n",
      "0    0.16\n",
      "1    0.13\n",
      "Name: Highest_education_level, dtype: float64\n"
     ]
    }
   ],
   "source": [
    "# Read the sample dataset\n",
    "data = pd.read_csv(\"Data.csv\")\n",
    "\n",
    "# Compute proportions of each category in the sample dataset\n",
    "sex_proportions = data['Sex'].value_counts(normalize=True)\n",
    "age_group_proportions = data['Age_category'].value_counts(normalize=True)\n",
    "education_level_proportions = data['Highest_education_level'].value_counts(normalize=True)\n",
    "print(sex_proportions)\n",
    "print(age_group_proportions)\n",
    "print(education_level_proportions)"
   ]
  },
  {
   "cell_type": "code",
   "execution_count": 4,
   "id": "1bed320b",
   "metadata": {},
   "outputs": [],
   "source": [
    "# Population characteristics from Table 2 (given)\n",
    "population_characteristics = {\n",
    "    'Sex': {1: 25324, 2: 24676},\n",
    "    'Age_category': {1: 17955, 2: 29642, 3: 2403},\n",
    "    'Highest_education_level': {0: 7490, 1: 5655, 2: 24400, 3: 12455}\n",
    "}"
   ]
  },
  {
   "cell_type": "code",
   "execution_count": 5,
   "id": "78732b98",
   "metadata": {},
   "outputs": [
    {
     "name": "stdout",
     "output_type": "stream",
     "text": [
      "{'Sex': {1: 6331000, 2: 6169000}, 'Age_category': {1: 4488750, 2: 7410500, 3: 600750}, 'Highest_education_level': {0: 1872500, 1: 1413750, 2: 6100000, 3: 3113750}}\n"
     ]
    }
   ],
   "source": [
    "# Initialize an empty dictionary to store the required agents for each category\n",
    "required_agents = {}\n",
    "\n",
    "# Iterate over each category and its corresponding proportions in population_characteristics\n",
    "for category, proportions in population_characteristics.items():\n",
    "    # Determine the multiplier based on the dataset size\n",
    "    # The multiplier is capped at 50000 and is proportional to one-tenth of the dataset size\n",
    "    # we can Adjust the divisor (currently 10) as needed for different scaling\n",
    "#     multiplier = min(50000, len(data) / 10)\n",
    "\n",
    "    # Calculate the required agents for each category based on proportions and multiplier\n",
    "    category_agents = {}\n",
    "    for k, v in proportions.items():\n",
    "        # Multiply the proportion by the multiplier and round to the nearest integer\n",
    "        category_agents[k] = round(v * 250)\n",
    "    \n",
    "    # Store the calculated required agents for the current category in the required_agents dictionary\n",
    "    required_agents[category] = category_agents\n",
    "print(required_agents)"
   ]
  },
  {
   "cell_type": "code",
   "execution_count": null,
   "id": "ec490117",
   "metadata": {},
   "outputs": [],
   "source": [
    "\n"
   ]
  },
  {
   "cell_type": "code",
   "execution_count": 6,
   "id": "f34b4dd1",
   "metadata": {},
   "outputs": [
    {
     "name": "stdout",
     "output_type": "stream",
     "text": [
      "[{'Sex': 1, 'Age_category': 3, 'Highest_education_level': 0}, {'Sex': 1, 'Age_category': 2, 'Highest_education_level': 2}, {'Sex': 1, 'Age_category': 2, 'Highest_education_level': 3}, {'Sex': 1, 'Age_category': 1, 'Highest_education_level': 0}, {'Sex': 1, 'Age_category': 2, 'Highest_education_level': 3}, {'Sex': 1, 'Age_category': 3, 'Highest_education_level': 0}, {'Sex': 1, 'Age_category': 2, 'Highest_education_level': 2}, {'Sex': 1, 'Age_category': 2, 'Highest_education_level': 2}, {'Sex': 1, 'Age_category': 2, 'Highest_education_level': 2}, {'Sex': 1, 'Age_category': 1, 'Highest_education_level': 2}]\n"
     ]
    }
   ],
   "source": [
    "# Initialize empty list to store synthesized population\n",
    "synthesized_population = []\n",
    "for category in required_agents:\n",
    "    for category_value, count in required_agents[category].items():\n",
    "        # Select individuals randomly from the sample dataset\n",
    "        selected_individuals = data[data[category] == category_value].sample(n=count, replace=True)\n",
    "        # Append selected individuals to synthesized population\n",
    "        synthesized_population.extend(selected_individuals.to_dict('records'))\n",
    "print(synthesized_population[:10])"
   ]
  },
  {
   "cell_type": "code",
   "execution_count": 7,
   "id": "65b30b94",
   "metadata": {},
   "outputs": [
    {
     "name": "stdout",
     "output_type": "stream",
     "text": [
      "Validation Results:\n",
      "Sex Frequencies Match: False\n",
      "Age Group Frequencies Match: False\n",
      "Education Level Frequencies Match: False\n"
     ]
    }
   ],
   "source": [
    "# Convert the synthesized population into a DataFrame\n",
    "synthesized_df = pd.DataFrame(synthesized_population)\n",
    "\n",
    "# Calculate the frequencies of each category in the synthesized population\n",
    "synthesized_sex_freq = synthesized_df['Sex'].value_counts()\n",
    "synthesized_age_freq = synthesized_df['Age_category'].value_counts()\n",
    "synthesized_education_freq = synthesized_df['Highest_education_level'].value_counts()\n",
    "\n",
    "# Compare the frequencies with the population characteristics from Table 2\n",
    "print(\"Validation Results:\")\n",
    "print(\"Sex Frequencies Match:\", synthesized_sex_freq.equals(population_characteristics['Sex']))\n",
    "print(\"Age Group Frequencies Match:\", synthesized_age_freq.equals(population_characteristics['Age_category']))\n",
    "print(\"Education Level Frequencies Match:\", synthesized_education_freq.equals(population_characteristics['Highest_education_level']))\n"
   ]
  },
  {
   "cell_type": "code",
   "execution_count": null,
   "id": "7d7b1ea8",
   "metadata": {},
   "outputs": [],
   "source": []
  }
 ],
 "metadata": {
  "kernelspec": {
   "display_name": "Python 3 (ipykernel)",
   "language": "python",
   "name": "python3"
  },
  "language_info": {
   "codemirror_mode": {
    "name": "ipython",
    "version": 3
   },
   "file_extension": ".py",
   "mimetype": "text/x-python",
   "name": "python",
   "nbconvert_exporter": "python",
   "pygments_lexer": "ipython3",
   "version": "3.9.12"
  }
 },
 "nbformat": 4,
 "nbformat_minor": 5
}
