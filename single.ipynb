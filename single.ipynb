{
 "cells": [
  {
   "cell_type": "code",
   "execution_count": 25,
   "id": "3dfdf1fe",
   "metadata": {},
   "outputs": [
    {
     "name": "stdout",
     "output_type": "stream",
     "text": [
      "Number of desired agents: 50000\n",
      "Frequencies:\n",
      "       Sex  Age_category  Highest_education_level\n",
      "0      0.0           0.0                     8064\n",
      "1  25739.0       17745.0                     6333\n",
      "2  24261.0       29414.0                    24485\n",
      "3      0.0        2841.0                    11118\n"
     ]
    }
   ],
   "source": [
    "import pandas as pd\n",
    "\n",
    "# Load the dataset\n",
    "data = pd.read_csv(\"Data.csv\")\n",
    "\n",
    "# Function to perform bootstrap sampling\n",
    "def bootstrap_sampling(data, num_samples):\n",
    "    synthetic_data = []\n",
    "    n = len(data)\n",
    "    while len(synthetic_data) < num_samples:\n",
    "        sample = data.sample(n=1, replace=True)\n",
    "        synthetic_data.append(sample)\n",
    "\n",
    "    return pd.concat(synthetic_data, ignore_index=True)\n",
    "\n",
    "# Generate synthetic data using bootstrapping\n",
    "synthetic_data = bootstrap_sampling(data, 50000)\n",
    "\n",
    "# Print the number of desired agents i.e 50k in the synthetic dataset\n",
    "print(\"Number of desired agents:\", len(synthetic_data))\n",
    "\n",
    "# Save the synthetic dataset to a CSV file\n",
    "synthetic_data.to_csv(\"Synthetic_Data_Bootstrapping.csv\", index=False)\n",
    "\n",
    "# Compute and save the frequencies\n",
    "frequencies = synthetic_data.apply(pd.value_counts).fillna(0)\n",
    "print(\"Frequencies:\")\n",
    "print(frequencies)\n",
    "\n",
    "# Save the frequencies into a text file\n",
    "with open(\"Synthetic_Frequencies.txt\", \"w\") as file:\n",
    "    file.write(frequencies.to_string())\n"
   ]
  },
  {
   "cell_type": "code",
   "execution_count": 21,
   "id": "b3cb7498",
   "metadata": {},
   "outputs": [
    {
     "name": "stdout",
     "output_type": "stream",
     "text": [
      "1    0.515\n",
      "2    0.485\n",
      "Name: Sex, dtype: float64\n",
      "2    0.590\n",
      "1    0.355\n",
      "3    0.055\n",
      "Name: Age_category, dtype: float64\n",
      "2    0.49\n",
      "3    0.22\n",
      "0    0.16\n",
      "1    0.13\n",
      "Name: Highest_education_level, dtype: float64\n"
     ]
    }
   ],
   "source": [
    "# Read the sample dataset\n",
    "data = pd.read_csv(\"Data.csv\")\n",
    "\n",
    "# Compute proportions of each category in the sample dataset\n",
    "sex_proportions = data['Sex'].value_counts(normalize=True)\n",
    "age_group_proportions = data['Age_category'].value_counts(normalize=True)\n",
    "education_level_proportions = data['Highest_education_level'].value_counts(normalize=True)\n",
    "print(sex_proportions)\n",
    "print(age_group_proportions)\n",
    "print(education_level_proportions)"
   ]
  },
  {
   "cell_type": "code",
   "execution_count": 22,
   "id": "f5c43edc",
   "metadata": {},
   "outputs": [
    {
     "name": "stdout",
     "output_type": "stream",
     "text": [
      "1    0.5148\n",
      "2    0.4852\n",
      "Name: Sex, dtype: float64\n",
      "2    0.59054\n",
      "1    0.35498\n",
      "3    0.05448\n",
      "Name: Age_category, dtype: float64\n",
      "2    0.48744\n",
      "3    0.22076\n",
      "0    0.16038\n",
      "1    0.13142\n",
      "Name: Highest_education_level, dtype: float64\n"
     ]
    }
   ],
   "source": [
    "# Read the sample dataset\n",
    "data = pd.read_csv(\"Synthetic_Data_Bootstrapping.csv\")\n",
    "\n",
    "# Compute proportions of each category in the synthetic dataset \n",
    "#you can compare both original and synthetic proportions for validation.\n",
    "sex_proportions = data['Sex'].value_counts(normalize=True)\n",
    "age_group_proportions = data['Age_category'].value_counts(normalize=True)\n",
    "education_level_proportions = data['Highest_education_level'].value_counts(normalize=True)\n",
    "print(sex_proportions)\n",
    "print(age_group_proportions)\n",
    "print(education_level_proportions)"
   ]
  },
  {
   "cell_type": "code",
   "execution_count": 24,
   "id": "689cd2ea",
   "metadata": {},
   "outputs": [
    {
     "data": {
      "text/plain": [
       "50000"
      ]
     },
     "execution_count": 24,
     "metadata": {},
     "output_type": "execute_result"
    }
   ],
   "source": [
    "len(synthetic_data)"
   ]
  },
  {
   "cell_type": "code",
   "execution_count": null,
   "id": "9f9eb8c3",
   "metadata": {},
   "outputs": [],
   "source": []
  },
  {
   "cell_type": "code",
   "execution_count": null,
   "id": "a4fb1c4f",
   "metadata": {},
   "outputs": [],
   "source": []
  },
  {
   "cell_type": "code",
   "execution_count": null,
   "id": "e7a47cdd",
   "metadata": {},
   "outputs": [],
   "source": []
  },
  {
   "cell_type": "code",
   "execution_count": null,
   "id": "73e3d443",
   "metadata": {},
   "outputs": [],
   "source": []
  },
  {
   "cell_type": "code",
   "execution_count": null,
   "id": "17add93c",
   "metadata": {},
   "outputs": [],
   "source": []
  },
  {
   "cell_type": "code",
   "execution_count": null,
   "id": "4ac076a6",
   "metadata": {},
   "outputs": [],
   "source": []
  }
 ],
 "metadata": {
  "kernelspec": {
   "display_name": "Python 3 (ipykernel)",
   "language": "python",
   "name": "python3"
  },
  "language_info": {
   "codemirror_mode": {
    "name": "ipython",
    "version": 3
   },
   "file_extension": ".py",
   "mimetype": "text/x-python",
   "name": "python",
   "nbconvert_exporter": "python",
   "pygments_lexer": "ipython3",
   "version": "3.9.12"
  }
 },
 "nbformat": 4,
 "nbformat_minor": 5
}
